{
 "cells": [
  {
   "cell_type": "markdown",
   "metadata": {},
   "source": [
    "# Recommender Playlists\n",
    "\n",
    "Recommend songs based on track features and current playlists using ML."
   ]
  },
  {
   "cell_type": "code",
   "execution_count": 1,
   "metadata": {},
   "outputs": [],
   "source": [
    "import numpy as np\n",
    "import pandas as pd\n",
    "import matplotlib.pyplot as plt\n",
    "import yaml"
   ]
  },
  {
   "cell_type": "code",
   "execution_count": 2,
   "metadata": {},
   "outputs": [],
   "source": [
    "from sklearn.preprocessing import MinMaxScaler\n",
    "from sklearn.feature_selection import RFECV\n",
    "from sklearn.model_selection import train_test_split, StratifiedKFold, GridSearchCV, RandomizedSearchCV\n",
    "from sklearn.metrics import classification_report"
   ]
  },
  {
   "cell_type": "code",
   "execution_count": 3,
   "metadata": {},
   "outputs": [],
   "source": [
    "from sklearn.linear_model import LogisticRegression\n",
    "from sklearn.ensemble import RandomForestClassifier\n",
    "from xgboost import XGBClassifier\n",
    "from sklearn.neighbors import KNeighborsClassifier"
   ]
  },
  {
   "cell_type": "code",
   "execution_count": 4,
   "metadata": {},
   "outputs": [],
   "source": [
    "# To create a playlist and add tracks\n",
    "import spotipy \n",
    "from spotipy.oauth2 import SpotifyOAuth"
   ]
  },
  {
   "cell_type": "markdown",
   "metadata": {},
   "source": [
    "## Import Data\n",
    "\n",
    "- Artist and track data was pulled using the Spotify API via the spotipy package\n",
    "- Data was saved in pickle format using music_data.py and data_functions.py modules\n",
    "- The data can now be quickly read by multiple workflows"
   ]
  },
  {
   "cell_type": "code",
   "execution_count": 13,
   "metadata": {},
   "outputs": [
    {
     "data": {
      "text/plain": [
       "Index(['id', 'name', 'popularity', 'type', 'is_local', 'explicit',\n",
       "       'duration_ms', 'disc_number', 'track_number', 'artist_id',\n",
       "       'artist_name', 'album_artist_id', 'album_artist_name', 'album_id',\n",
       "       'album_name', 'album_release_date', 'album_tracks', 'album_type',\n",
       "       'playlist_id', 'playlist_name', 'playlist_tracks', 'added_at',\n",
       "       'added_by'],\n",
       "      dtype='object')"
      ]
     },
     "execution_count": 13,
     "metadata": {},
     "output_type": "execute_result"
    }
   ],
   "source": [
    "top_artist_df = pd.read_pickle(\"spotify/top_artists.pkl\")\n",
    "followed_artists_df = pd.read_pickle(\"spotify/followed_artists.pkl\")\n",
    "top_tracks_df = pd.read_pickle(\"spotify/top_tracks.pkl\")\n",
    "saved_tracks_df = pd.read_pickle(\"spotify/saved_tracks.pkl\")\n",
    "playlist_tracks_df = pd.read_pickle(\"spotify/playlist_tracks.pkl\")\n",
    "recommendation_tracks_df = pd.read_pickle(\"spotify/recommendation_tracks.pkl\")\n",
    "\n",
    "playlist_tracks_df.columns"
   ]
  },
  {
   "cell_type": "code",
   "execution_count": 6,
   "metadata": {},
   "outputs": [],
   "source": [
    "# Remove duplicates on track id\n",
    "playlist_tracks_df = playlist_tracks_df.drop_duplicates(subset='id', keep=\"first\").reset_index()\n",
    "recommendation_tracks_df = recommendation_tracks_df.drop_duplicates(subset='id', keep=\"first\").reset_index()\n",
    "# Avoid data leakage\n",
    "recommendation_tracks_df = recommendation_tracks_df[~recommendation_tracks_df['id'].isin(playlist_tracks_df['id'].tolist())]"
   ]
  },
  {
   "cell_type": "code",
   "execution_count": 7,
   "metadata": {},
   "outputs": [
    {
     "data": {
      "text/html": [
       "<div>\n",
       "<style scoped>\n",
       "    .dataframe tbody tr th:only-of-type {\n",
       "        vertical-align: middle;\n",
       "    }\n",
       "\n",
       "    .dataframe tbody tr th {\n",
       "        vertical-align: top;\n",
       "    }\n",
       "\n",
       "    .dataframe thead th {\n",
       "        text-align: right;\n",
       "    }\n",
       "</style>\n",
       "<table border=\"1\" class=\"dataframe\">\n",
       "  <thead>\n",
       "    <tr style=\"text-align: right;\">\n",
       "      <th></th>\n",
       "      <th>index</th>\n",
       "      <th>id</th>\n",
       "      <th>name</th>\n",
       "      <th>popularity</th>\n",
       "      <th>type</th>\n",
       "      <th>is_local</th>\n",
       "      <th>explicit</th>\n",
       "      <th>duration_ms</th>\n",
       "      <th>disc_number</th>\n",
       "      <th>track_number</th>\n",
       "      <th>...</th>\n",
       "      <th>album_id</th>\n",
       "      <th>album_name</th>\n",
       "      <th>album_release_date</th>\n",
       "      <th>album_tracks</th>\n",
       "      <th>album_type</th>\n",
       "      <th>playlist_id</th>\n",
       "      <th>playlist_name</th>\n",
       "      <th>playlist_tracks</th>\n",
       "      <th>added_at</th>\n",
       "      <th>added_by</th>\n",
       "    </tr>\n",
       "  </thead>\n",
       "  <tbody>\n",
       "    <tr>\n",
       "      <th>0</th>\n",
       "      <td>0</td>\n",
       "      <td>29gsi1zZrZxdStACmTQB0Z</td>\n",
       "      <td>Studio</td>\n",
       "      <td>70</td>\n",
       "      <td>track</td>\n",
       "      <td>False</td>\n",
       "      <td>True</td>\n",
       "      <td>278066</td>\n",
       "      <td>1</td>\n",
       "      <td>6</td>\n",
       "      <td>...</td>\n",
       "      <td>7Et3bSTLLqdABO1qCxUplS</td>\n",
       "      <td>Oxymoron (Deluxe)</td>\n",
       "      <td>2014-01-01</td>\n",
       "      <td>15</td>\n",
       "      <td>album</td>\n",
       "      <td>4IH1CNucveX4pdvbrKjT8x</td>\n",
       "      <td>¿?</td>\n",
       "      <td>48</td>\n",
       "      <td>2015-12-30T21:57:48Z</td>\n",
       "      <td>{'external_urls': {'spotify': 'https://open.sp...</td>\n",
       "    </tr>\n",
       "    <tr>\n",
       "      <th>1</th>\n",
       "      <td>1</td>\n",
       "      <td>5SsR3wtCOafDmZgvIdRhSm</td>\n",
       "      <td>Man Of The Year</td>\n",
       "      <td>73</td>\n",
       "      <td>track</td>\n",
       "      <td>False</td>\n",
       "      <td>True</td>\n",
       "      <td>216013</td>\n",
       "      <td>1</td>\n",
       "      <td>12</td>\n",
       "      <td>...</td>\n",
       "      <td>7Et3bSTLLqdABO1qCxUplS</td>\n",
       "      <td>Oxymoron (Deluxe)</td>\n",
       "      <td>2014-01-01</td>\n",
       "      <td>15</td>\n",
       "      <td>album</td>\n",
       "      <td>4IH1CNucveX4pdvbrKjT8x</td>\n",
       "      <td>¿?</td>\n",
       "      <td>48</td>\n",
       "      <td>2015-12-30T21:57:56Z</td>\n",
       "      <td>{'external_urls': {'spotify': 'https://open.sp...</td>\n",
       "    </tr>\n",
       "    <tr>\n",
       "      <th>2</th>\n",
       "      <td>2</td>\n",
       "      <td>439TlnnznSiBbQbgXiBqAd</td>\n",
       "      <td>m.A.A.d city</td>\n",
       "      <td>69</td>\n",
       "      <td>track</td>\n",
       "      <td>False</td>\n",
       "      <td>True</td>\n",
       "      <td>350120</td>\n",
       "      <td>1</td>\n",
       "      <td>8</td>\n",
       "      <td>...</td>\n",
       "      <td>6PBZN8cbwkqm1ERj2BGXJ1</td>\n",
       "      <td>good kid, m.A.A.d city</td>\n",
       "      <td>2012</td>\n",
       "      <td>13</td>\n",
       "      <td>album</td>\n",
       "      <td>4IH1CNucveX4pdvbrKjT8x</td>\n",
       "      <td>¿?</td>\n",
       "      <td>48</td>\n",
       "      <td>2015-12-30T21:58:28Z</td>\n",
       "      <td>{'external_urls': {'spotify': 'https://open.sp...</td>\n",
       "    </tr>\n",
       "    <tr>\n",
       "      <th>3</th>\n",
       "      <td>3</td>\n",
       "      <td>2n5gVJ9fzeX2SSWlLQuyS9</td>\n",
       "      <td>Fight Night</td>\n",
       "      <td>69</td>\n",
       "      <td>track</td>\n",
       "      <td>False</td>\n",
       "      <td>True</td>\n",
       "      <td>216247</td>\n",
       "      <td>1</td>\n",
       "      <td>9</td>\n",
       "      <td>...</td>\n",
       "      <td>56PJDByaunMWwCqs5rV3Nc</td>\n",
       "      <td>No Label II</td>\n",
       "      <td>2014-06-03</td>\n",
       "      <td>20</td>\n",
       "      <td>album</td>\n",
       "      <td>4IH1CNucveX4pdvbrKjT8x</td>\n",
       "      <td>¿?</td>\n",
       "      <td>48</td>\n",
       "      <td>2015-12-30T21:58:55Z</td>\n",
       "      <td>{'external_urls': {'spotify': 'https://open.sp...</td>\n",
       "    </tr>\n",
       "    <tr>\n",
       "      <th>4</th>\n",
       "      <td>4</td>\n",
       "      <td>0XGLsSU6wtfnKXiMNvQr61</td>\n",
       "      <td>Versace (Remix)</td>\n",
       "      <td>60</td>\n",
       "      <td>track</td>\n",
       "      <td>False</td>\n",
       "      <td>True</td>\n",
       "      <td>246047</td>\n",
       "      <td>1</td>\n",
       "      <td>1</td>\n",
       "      <td>...</td>\n",
       "      <td>35Lhx0cJU8MMnENePMmt6f</td>\n",
       "      <td>Versace (feat. Drake) [Remix] - Single</td>\n",
       "      <td>2015-01-06</td>\n",
       "      <td>1</td>\n",
       "      <td>album</td>\n",
       "      <td>4IH1CNucveX4pdvbrKjT8x</td>\n",
       "      <td>¿?</td>\n",
       "      <td>48</td>\n",
       "      <td>2015-12-30T21:59:03Z</td>\n",
       "      <td>{'external_urls': {'spotify': 'https://open.sp...</td>\n",
       "    </tr>\n",
       "  </tbody>\n",
       "</table>\n",
       "<p>5 rows × 24 columns</p>\n",
       "</div>"
      ],
      "text/plain": [
       "   index                      id             name  popularity   type  \\\n",
       "0      0  29gsi1zZrZxdStACmTQB0Z           Studio          70  track   \n",
       "1      1  5SsR3wtCOafDmZgvIdRhSm  Man Of The Year          73  track   \n",
       "2      2  439TlnnznSiBbQbgXiBqAd     m.A.A.d city          69  track   \n",
       "3      3  2n5gVJ9fzeX2SSWlLQuyS9      Fight Night          69  track   \n",
       "4      4  0XGLsSU6wtfnKXiMNvQr61  Versace (Remix)          60  track   \n",
       "\n",
       "   is_local  explicit  duration_ms  disc_number  track_number  ...  \\\n",
       "0     False      True       278066            1             6  ...   \n",
       "1     False      True       216013            1            12  ...   \n",
       "2     False      True       350120            1             8  ...   \n",
       "3     False      True       216247            1             9  ...   \n",
       "4     False      True       246047            1             1  ...   \n",
       "\n",
       "                 album_id                              album_name  \\\n",
       "0  7Et3bSTLLqdABO1qCxUplS                       Oxymoron (Deluxe)   \n",
       "1  7Et3bSTLLqdABO1qCxUplS                       Oxymoron (Deluxe)   \n",
       "2  6PBZN8cbwkqm1ERj2BGXJ1                  good kid, m.A.A.d city   \n",
       "3  56PJDByaunMWwCqs5rV3Nc                             No Label II   \n",
       "4  35Lhx0cJU8MMnENePMmt6f  Versace (feat. Drake) [Remix] - Single   \n",
       "\n",
       "  album_release_date album_tracks album_type             playlist_id  \\\n",
       "0         2014-01-01           15      album  4IH1CNucveX4pdvbrKjT8x   \n",
       "1         2014-01-01           15      album  4IH1CNucveX4pdvbrKjT8x   \n",
       "2               2012           13      album  4IH1CNucveX4pdvbrKjT8x   \n",
       "3         2014-06-03           20      album  4IH1CNucveX4pdvbrKjT8x   \n",
       "4         2015-01-06            1      album  4IH1CNucveX4pdvbrKjT8x   \n",
       "\n",
       "  playlist_name  playlist_tracks              added_at  \\\n",
       "0            ¿?               48  2015-12-30T21:57:48Z   \n",
       "1            ¿?               48  2015-12-30T21:57:56Z   \n",
       "2            ¿?               48  2015-12-30T21:58:28Z   \n",
       "3            ¿?               48  2015-12-30T21:58:55Z   \n",
       "4            ¿?               48  2015-12-30T21:59:03Z   \n",
       "\n",
       "                                            added_by  \n",
       "0  {'external_urls': {'spotify': 'https://open.sp...  \n",
       "1  {'external_urls': {'spotify': 'https://open.sp...  \n",
       "2  {'external_urls': {'spotify': 'https://open.sp...  \n",
       "3  {'external_urls': {'spotify': 'https://open.sp...  \n",
       "4  {'external_urls': {'spotify': 'https://open.sp...  \n",
       "\n",
       "[5 rows x 24 columns]"
      ]
     },
     "execution_count": 7,
     "metadata": {},
     "output_type": "execute_result"
    }
   ],
   "source": [
    "playlist_tracks_df.head()"
   ]
  },
  {
   "cell_type": "markdown",
   "metadata": {},
   "source": [
    "## Create Ratings\n",
    "\n",
    "I want to avoid time labelling my data, the best way to form recommendations would be to rate all my playlist songs from 1-10 and form a regression problem. I'm skipping this as I have some favourite playlists, so can turn this into a classifcation problem.\n",
    "\n",
    "- Classify tracks in my favourite playlists as 1\n",
    "- Classify the rest as 0"
   ]
  },
  {
   "cell_type": "code",
   "execution_count": 8,
   "metadata": {},
   "outputs": [
    {
     "data": {
      "text/plain": [
       "0       1\n",
       "1       1\n",
       "2       1\n",
       "3       1\n",
       "4       1\n",
       "       ..\n",
       "1933    1\n",
       "1934    1\n",
       "1935    1\n",
       "1936    1\n",
       "1937    1\n",
       "Name: ratings, Length: 1938, dtype: int64"
      ]
     },
     "execution_count": 8,
     "metadata": {},
     "output_type": "execute_result"
    }
   ],
   "source": [
    "# Load list of playlist ids for my favourite playlists\n",
    "with open(\"spotify/playlists.yml\", 'r') as stream:\n",
    "    playlists = yaml.safe_load(stream)\n",
    "\n",
    "playlist_tracks_df['ratings'] = playlist_tracks_df['playlist_id'].apply(lambda x: 1 if x in playlists.values() else 0)\n",
    "playlist_tracks_df['ratings']"
   ]
  },
  {
   "cell_type": "code",
   "execution_count": 9,
   "metadata": {},
   "outputs": [
    {
     "ename": "KeyError",
     "evalue": "\"['danceability', 'energy', 'key', 'loudness', 'mode', 'speechiness', 'acousticness', 'instrumentalness', 'liveness', 'valence', 'tempo', 'time_signature', 'genres'] not in index\"",
     "output_type": "error",
     "traceback": [
      "\u001b[0;31m---------------------------------------------------------------------------\u001b[0m",
      "\u001b[0;31mKeyError\u001b[0m                                  Traceback (most recent call last)",
      "\u001b[0;32m/tmp/ipykernel_24843/1985832499.py\u001b[0m in \u001b[0;36m<module>\u001b[0;34m\u001b[0m\n\u001b[1;32m      1\u001b[0m \u001b[0;31m# Training data\u001b[0m\u001b[0;34m\u001b[0m\u001b[0;34m\u001b[0m\u001b[0;34m\u001b[0m\u001b[0m\n\u001b[0;32m----> 2\u001b[0;31m X = playlist_tracks_df[['popularity', 'explicit', 'duration_ms', 'danceability', 'energy',\n\u001b[0m\u001b[1;32m      3\u001b[0m                         \u001b[0;34m'key'\u001b[0m\u001b[0;34m,\u001b[0m \u001b[0;34m'loudness'\u001b[0m\u001b[0;34m,\u001b[0m \u001b[0;34m'mode'\u001b[0m\u001b[0;34m,\u001b[0m \u001b[0;34m'speechiness'\u001b[0m\u001b[0;34m,\u001b[0m \u001b[0;34m'acousticness'\u001b[0m\u001b[0;34m,\u001b[0m \u001b[0;34m'instrumentalness'\u001b[0m\u001b[0;34m,\u001b[0m\u001b[0;34m\u001b[0m\u001b[0;34m\u001b[0m\u001b[0m\n\u001b[1;32m      4\u001b[0m                         'liveness', 'valence', 'tempo', 'time_signature', 'genres']]  # order here is important for xgboost later\n\u001b[1;32m      5\u001b[0m \u001b[0my\u001b[0m \u001b[0;34m=\u001b[0m \u001b[0mplaylist_tracks_df\u001b[0m\u001b[0;34m[\u001b[0m\u001b[0;34m'ratings'\u001b[0m\u001b[0;34m]\u001b[0m\u001b[0;34m\u001b[0m\u001b[0;34m\u001b[0m\u001b[0m\n",
      "\u001b[0;32m~/.local/lib/python3.8/site-packages/pandas/core/frame.py\u001b[0m in \u001b[0;36m__getitem__\u001b[0;34m(self, key)\u001b[0m\n\u001b[1;32m   3462\u001b[0m             \u001b[0;32mif\u001b[0m \u001b[0mis_iterator\u001b[0m\u001b[0;34m(\u001b[0m\u001b[0mkey\u001b[0m\u001b[0;34m)\u001b[0m\u001b[0;34m:\u001b[0m\u001b[0;34m\u001b[0m\u001b[0;34m\u001b[0m\u001b[0m\n\u001b[1;32m   3463\u001b[0m                 \u001b[0mkey\u001b[0m \u001b[0;34m=\u001b[0m \u001b[0mlist\u001b[0m\u001b[0;34m(\u001b[0m\u001b[0mkey\u001b[0m\u001b[0;34m)\u001b[0m\u001b[0;34m\u001b[0m\u001b[0;34m\u001b[0m\u001b[0m\n\u001b[0;32m-> 3464\u001b[0;31m             \u001b[0mindexer\u001b[0m \u001b[0;34m=\u001b[0m \u001b[0mself\u001b[0m\u001b[0;34m.\u001b[0m\u001b[0mloc\u001b[0m\u001b[0;34m.\u001b[0m\u001b[0m_get_listlike_indexer\u001b[0m\u001b[0;34m(\u001b[0m\u001b[0mkey\u001b[0m\u001b[0;34m,\u001b[0m \u001b[0maxis\u001b[0m\u001b[0;34m=\u001b[0m\u001b[0;36m1\u001b[0m\u001b[0;34m)\u001b[0m\u001b[0;34m[\u001b[0m\u001b[0;36m1\u001b[0m\u001b[0;34m]\u001b[0m\u001b[0;34m\u001b[0m\u001b[0;34m\u001b[0m\u001b[0m\n\u001b[0m\u001b[1;32m   3465\u001b[0m \u001b[0;34m\u001b[0m\u001b[0m\n\u001b[1;32m   3466\u001b[0m         \u001b[0;31m# take() does not accept boolean indexers\u001b[0m\u001b[0;34m\u001b[0m\u001b[0;34m\u001b[0m\u001b[0;34m\u001b[0m\u001b[0m\n",
      "\u001b[0;32m~/.local/lib/python3.8/site-packages/pandas/core/indexing.py\u001b[0m in \u001b[0;36m_get_listlike_indexer\u001b[0;34m(self, key, axis)\u001b[0m\n\u001b[1;32m   1312\u001b[0m             \u001b[0mkeyarr\u001b[0m\u001b[0;34m,\u001b[0m \u001b[0mindexer\u001b[0m\u001b[0;34m,\u001b[0m \u001b[0mnew_indexer\u001b[0m \u001b[0;34m=\u001b[0m \u001b[0max\u001b[0m\u001b[0;34m.\u001b[0m\u001b[0m_reindex_non_unique\u001b[0m\u001b[0;34m(\u001b[0m\u001b[0mkeyarr\u001b[0m\u001b[0;34m)\u001b[0m\u001b[0;34m\u001b[0m\u001b[0;34m\u001b[0m\u001b[0m\n\u001b[1;32m   1313\u001b[0m \u001b[0;34m\u001b[0m\u001b[0m\n\u001b[0;32m-> 1314\u001b[0;31m         \u001b[0mself\u001b[0m\u001b[0;34m.\u001b[0m\u001b[0m_validate_read_indexer\u001b[0m\u001b[0;34m(\u001b[0m\u001b[0mkeyarr\u001b[0m\u001b[0;34m,\u001b[0m \u001b[0mindexer\u001b[0m\u001b[0;34m,\u001b[0m \u001b[0maxis\u001b[0m\u001b[0;34m)\u001b[0m\u001b[0;34m\u001b[0m\u001b[0;34m\u001b[0m\u001b[0m\n\u001b[0m\u001b[1;32m   1315\u001b[0m \u001b[0;34m\u001b[0m\u001b[0m\n\u001b[1;32m   1316\u001b[0m         if needs_i8_conversion(ax.dtype) or isinstance(\n",
      "\u001b[0;32m~/.local/lib/python3.8/site-packages/pandas/core/indexing.py\u001b[0m in \u001b[0;36m_validate_read_indexer\u001b[0;34m(self, key, indexer, axis)\u001b[0m\n\u001b[1;32m   1375\u001b[0m \u001b[0;34m\u001b[0m\u001b[0m\n\u001b[1;32m   1376\u001b[0m             \u001b[0mnot_found\u001b[0m \u001b[0;34m=\u001b[0m \u001b[0mlist\u001b[0m\u001b[0;34m(\u001b[0m\u001b[0mensure_index\u001b[0m\u001b[0;34m(\u001b[0m\u001b[0mkey\u001b[0m\u001b[0;34m)\u001b[0m\u001b[0;34m[\u001b[0m\u001b[0mmissing_mask\u001b[0m\u001b[0;34m.\u001b[0m\u001b[0mnonzero\u001b[0m\u001b[0;34m(\u001b[0m\u001b[0;34m)\u001b[0m\u001b[0;34m[\u001b[0m\u001b[0;36m0\u001b[0m\u001b[0;34m]\u001b[0m\u001b[0;34m]\u001b[0m\u001b[0;34m.\u001b[0m\u001b[0munique\u001b[0m\u001b[0;34m(\u001b[0m\u001b[0;34m)\u001b[0m\u001b[0;34m)\u001b[0m\u001b[0;34m\u001b[0m\u001b[0;34m\u001b[0m\u001b[0m\n\u001b[0;32m-> 1377\u001b[0;31m             \u001b[0;32mraise\u001b[0m \u001b[0mKeyError\u001b[0m\u001b[0;34m(\u001b[0m\u001b[0;34mf\"{not_found} not in index\"\u001b[0m\u001b[0;34m)\u001b[0m\u001b[0;34m\u001b[0m\u001b[0;34m\u001b[0m\u001b[0m\n\u001b[0m\u001b[1;32m   1378\u001b[0m \u001b[0;34m\u001b[0m\u001b[0m\n\u001b[1;32m   1379\u001b[0m \u001b[0;34m\u001b[0m\u001b[0m\n",
      "\u001b[0;31mKeyError\u001b[0m: \"['danceability', 'energy', 'key', 'loudness', 'mode', 'speechiness', 'acousticness', 'instrumentalness', 'liveness', 'valence', 'tempo', 'time_signature', 'genres'] not in index\""
     ]
    }
   ],
   "source": [
    "# Training data\n",
    "X = playlist_tracks_df[['popularity', 'explicit', 'duration_ms', 'danceability', 'energy',\n",
    "                        'key', 'loudness', 'mode', 'speechiness', 'acousticness', 'instrumentalness',\n",
    "                        'liveness', 'valence', 'tempo', 'time_signature', 'genres']]  # order here is important for xgboost later\n",
    "y = playlist_tracks_df['ratings']\n",
    "\n",
    "# Drop NA\n",
    "X = X.dropna()\n",
    "recommendation_tracks_df = recommendation_tracks_df.dropna()\n",
    "\n",
    "# Create genre columns (one-hot encoding)\n",
    "X = X.drop('genres', 1).join(X['genres'].str.join('|').str.get_dummies())\n",
    "X_recommend = recommendation_tracks_df.copy()\n",
    "X_recommend = X_recommend.drop('genres', 1).join(X_recommend['genres'].str.join('|').str.get_dummies())\n",
    "\n",
    "# Ensure features are consistent across training, test, and evaluation\n",
    "X = X[X.columns.intersection(X_recommend.columns)]\n",
    "X_recommend = X_recommend[X_recommend.columns.intersection(X.columns)]\n",
    "\n",
    "# Train-test split\n",
    "X_train, X_test, y_train, y_test = train_test_split(X, y, test_size=0.2, random_state=42)\n",
    "X_train.head()"
   ]
  },
  {
   "cell_type": "markdown",
   "metadata": {},
   "source": [
    "## ML Time\n",
    "\n",
    "As this is a POC for fun I won't spend a lot of time optimising the features/model.\n",
    "\n",
    "- Feature rankings\n",
    "- No need to PCA we don't assume a linear relationship between variables and we want our components to be interpretable\n",
    "- ML models for classification (logistic regression, random forest, xgboost, knn)"
   ]
  },
  {
   "cell_type": "markdown",
   "metadata": {},
   "source": [
    "### Feature Rankings"
   ]
  },
  {
   "cell_type": "code",
   "execution_count": 10,
   "metadata": {},
   "outputs": [
    {
     "ename": "NameError",
     "evalue": "name 'X_train' is not defined",
     "output_type": "error",
     "traceback": [
      "\u001b[0;31m---------------------------------------------------------------------------\u001b[0m",
      "\u001b[0;31mNameError\u001b[0m                                 Traceback (most recent call last)",
      "\u001b[0;32m/tmp/ipykernel_24843/3137613722.py\u001b[0m in \u001b[0;36m<module>\u001b[0;34m\u001b[0m\n\u001b[1;32m      2\u001b[0m \u001b[0mrf\u001b[0m \u001b[0;34m=\u001b[0m \u001b[0mRandomForestClassifier\u001b[0m\u001b[0;34m(\u001b[0m\u001b[0mn_estimators\u001b[0m \u001b[0;34m=\u001b[0m \u001b[0;36m1000\u001b[0m\u001b[0;34m,\u001b[0m \u001b[0mrandom_state\u001b[0m \u001b[0;34m=\u001b[0m \u001b[0;36m42\u001b[0m\u001b[0;34m)\u001b[0m\u001b[0;34m\u001b[0m\u001b[0;34m\u001b[0m\u001b[0m\n\u001b[1;32m      3\u001b[0m \u001b[0mrfecv\u001b[0m \u001b[0;34m=\u001b[0m \u001b[0mRFECV\u001b[0m\u001b[0;34m(\u001b[0m\u001b[0mestimator\u001b[0m\u001b[0;34m=\u001b[0m\u001b[0mrf\u001b[0m\u001b[0;34m,\u001b[0m \u001b[0mstep\u001b[0m\u001b[0;34m=\u001b[0m\u001b[0;36m1\u001b[0m\u001b[0;34m,\u001b[0m \u001b[0mn_jobs\u001b[0m\u001b[0;34m=\u001b[0m\u001b[0;34m-\u001b[0m\u001b[0;36m1\u001b[0m\u001b[0;34m,\u001b[0m \u001b[0mcv\u001b[0m\u001b[0;34m=\u001b[0m\u001b[0mStratifiedKFold\u001b[0m\u001b[0;34m(\u001b[0m\u001b[0;36m2\u001b[0m\u001b[0;34m)\u001b[0m\u001b[0;34m,\u001b[0m \u001b[0mverbose\u001b[0m\u001b[0;34m=\u001b[0m\u001b[0;36m1\u001b[0m\u001b[0;34m,\u001b[0m \u001b[0mscoring\u001b[0m\u001b[0;34m=\u001b[0m\u001b[0;34m'roc_auc'\u001b[0m\u001b[0;34m)\u001b[0m\u001b[0;34m\u001b[0m\u001b[0;34m\u001b[0m\u001b[0m\n\u001b[0;32m----> 4\u001b[0;31m \u001b[0mrfecv\u001b[0m\u001b[0;34m.\u001b[0m\u001b[0mfit\u001b[0m\u001b[0;34m(\u001b[0m\u001b[0mX_train\u001b[0m\u001b[0;34m,\u001b[0m \u001b[0my_train\u001b[0m\u001b[0;34m)\u001b[0m\u001b[0;34m\u001b[0m\u001b[0;34m\u001b[0m\u001b[0m\n\u001b[0m\u001b[1;32m      5\u001b[0m \u001b[0;34m\u001b[0m\u001b[0m\n\u001b[1;32m      6\u001b[0m \u001b[0mprint\u001b[0m\u001b[0;34m(\u001b[0m\u001b[0;34mf'Optimal number of features: {rfecv.n_features_}'\u001b[0m\u001b[0;34m)\u001b[0m\u001b[0;34m\u001b[0m\u001b[0;34m\u001b[0m\u001b[0m\n",
      "\u001b[0;31mNameError\u001b[0m: name 'X_train' is not defined"
     ]
    }
   ],
   "source": [
    "# Cross-validation for number of features\n",
    "rf = RandomForestClassifier(n_estimators = 1000, random_state = 42)\n",
    "rfecv = RFECV(estimator=rf, step=1, n_jobs=-1, cv=StratifiedKFold(2), verbose=1, scoring='roc_auc')\n",
    "rfecv.fit(X_train, y_train)\n",
    "\n",
    "print(f'Optimal number of features: {rfecv.n_features_}')\n",
    "\n",
    "plt.figure()\n",
    "plt.xlabel('Number of features selected')\n",
    "plt.ylabel('Cross validation score')\n",
    "plt.plot(range(1, len(rfecv.grid_scores_)+1), rfecv.grid_scores_)\n",
    "plt.show()"
   ]
  },
  {
   "cell_type": "code",
   "execution_count": 10,
   "metadata": {},
   "outputs": [
    {
     "name": "stdout",
     "output_type": "stream",
     "text": [
      "1. loudness 0.09026153216724604\n",
      "2. instrumentalness 0.08175293168393384\n",
      "3. energy 0.0698657937806919\n",
      "4. acousticness 0.06927895270869916\n",
      "5. pop punk 0.051846490782025044\n",
      "6. popularity 0.04971388232782843\n",
      "7. edm 0.043101373180974366\n",
      "8. video game music 0.03786228043374934\n",
      "9. j-pop 0.032141723366064565\n",
      "10. pop 0.02650914076131575\n",
      "11. modern rock 0.02385857376159443\n",
      "12. electro house 0.023242168307445167\n",
      "13. punk 0.022780133302881936\n",
      "14. valence 0.020561437962552113\n",
      "15. duration_ms 0.019382052052923957\n",
      "16. future bass 0.01937554754014397\n",
      "17. rock 0.018825683032217787\n",
      "18. alternative metal 0.01492230428523666\n",
      "19. k-pop 0.014451208035697551\n",
      "20. j-rock 0.011924165211257214\n",
      "21. pop dance 0.011343989487854115\n",
      "22. danceability 0.011197068385870068\n",
      "23. j-poprock 0.009890007693636902\n",
      "24. dance pop 0.009752739173984983\n",
      "25. electropop 0.009609402874494875\n",
      "26. tropical house 0.009471552719492132\n",
      "27. speechiness 0.008365899788267472\n",
      "28. time_signature 0.007977071108840593\n",
      "29. k-pop girl group 0.007934549686504474\n",
      "30. pop rock 0.007855592702826765\n",
      "31. neon pop punk 0.00783308625077382\n",
      "32. anime rock 0.00778387160395474\n",
      "33. tempo 0.007776751259730471\n",
      "34. explicit 0.007574030883247365\n",
      "35. j-pixie 0.006429649659985014\n",
      "36. nu metal 0.006142477382369622\n",
      "37. permanent wave 0.0060740577701317\n",
      "38. mode 0.005746052760820259\n",
      "39. mandopop 0.005389152305823806\n",
      "40. post-teen pop 0.005367870839754476\n",
      "41. socal pop punk 0.005105721200297852\n",
      "42. liveness 0.005029438734660134\n",
      "43. melodic dubstep 0.004805749556302957\n",
      "44. rap metal 0.0040402078158275675\n",
      "45. key 0.004036110763092013\n",
      "46. otacore 0.003941935205114552\n",
      "47. pop edm 0.0038509121211197624\n",
      "48. japanese alternative rock 0.003144417311896538\n",
      "49. pop rap 0.0029905816991798962\n",
      "50. complextro 0.0028746425747377736\n",
      "51. anime 0.0026252903095537925\n",
      "52. modern alternative rock 0.002579066346422722\n",
      "53. canadian punk 0.0024274636083025766\n",
      "54. canadian pop punk 0.002427461192341937\n",
      "55. brostep 0.00225359726392266\n",
      "56. korean pop 0.0019392280500632785\n",
      "57. gaming edm 0.0016919323645608675\n",
      "58. melodic metalcore 0.0016141751961399845\n",
      "59. metalcore 0.0015845535988349897\n",
      "60. progressive electro house 0.001525884643794885\n",
      "61. japanese emo 0.0014973820654242023\n",
      "62. idol rock 0.00145130768926787\n",
      "63. pop emo 0.001366601668614879\n",
      "64. neo mellow 0.0012433564629807962\n",
      "65. viral pop 0.0012150922514318327\n",
      "66. canadian pop 0.001050638455867804\n",
      "67. post-grunge 0.0009251068820248865\n",
      "68. candy pop 0.0009238088982198467\n",
      "69. skate punk 0.0008088199186032522\n",
      "70. uk metalcore 0.0008070506314282498\n",
      "71. rap rock 0.0007741872058617286\n",
      "72. moombahton 0.0007670366139244612\n",
      "73. alternative rock 0.0007384554729371614\n",
      "74. japanese r&b 0.0006853302399759816\n",
      "75. japanese singer-songwriter 0.0006705610114267563\n",
      "76. japanese post-hardcore 0.0006061289106489043\n",
      "77. pixie 0.0005996015324297852\n",
      "78. emo rap 0.0005957148063937327\n",
      "79. miami hip hop 0.0005920580840370632\n",
      "80. korean r&b 0.0005736791404130127\n"
     ]
    }
   ],
   "source": [
    "# Analyze feature importances\n",
    "\n",
    "# Can use this with previous rfecv to reduce the number of features to speed up model training if needed \n",
    "# ~80 in this case\n",
    "rfc = RandomForestClassifier(n_estimators = 1000, max_depth=4, random_state=42)\n",
    "rfc.fit(X_train, y_train)\n",
    "\n",
    "important_features_dict = {}\n",
    "for idx, val in enumerate(rfc.feature_importances_):\n",
    "    important_features_dict[idx] = val\n",
    "\n",
    "important_features_list = sorted(important_features_dict,\n",
    "                                 key=important_features_dict.get,\n",
    "                                 reverse=True)\n",
    "\n",
    "# Print the top 80 features\n",
    "for i in range(len(important_features_list[:80])):\n",
    "    print(f\"{i+1}. {X_train.columns[important_features_list[i]]} {important_features_dict[important_features_list[i]]}\")"
   ]
  },
  {
   "cell_type": "markdown",
   "metadata": {},
   "source": [
    "### Logistic Regression"
   ]
  },
  {
   "cell_type": "code",
   "execution_count": 12,
   "metadata": {},
   "outputs": [
    {
     "name": "stdout",
     "output_type": "stream",
     "text": [
      "              precision    recall  f1-score   support\n",
      "\n",
      "           0       0.00      0.00      0.00       355\n",
      "           1       0.32      1.00      0.48       167\n",
      "\n",
      "    accuracy                           0.32       522\n",
      "   macro avg       0.16      0.50      0.24       522\n",
      "weighted avg       0.10      0.32      0.16       522\n",
      "\n"
     ]
    },
    {
     "name": "stderr",
     "output_type": "stream",
     "text": [
      "/Users/anthony/opt/anaconda3/lib/python3.7/site-packages/sklearn/metrics/_classification.py:1272: UndefinedMetricWarning: Precision and F-score are ill-defined and being set to 0.0 in labels with no predicted samples. Use `zero_division` parameter to control this behavior.\n",
      "  _warn_prf(average, modifier, msg_start, len(result))\n"
     ]
    }
   ],
   "source": [
    "# Logistic Regression\n",
    "# Poor model, looks like this isn't a linear problem\n",
    "\n",
    "# Rescale features from 0 to 1\n",
    "minmax_scaler = MinMaxScaler()\n",
    "X_train_scaled = pd.DataFrame(minmax_scaler.fit_transform(X_train), columns=X_train.columns)\n",
    "\n",
    "# Didn't work but not too concerned as this is both a POC for fun and likely a non-linear problem\n",
    "lr = LogisticRegression()\n",
    "lr.fit(X_train_scaled, y_train)\n",
    "print(classification_report(y_test, lr.predict(X_test)))"
   ]
  },
  {
   "cell_type": "markdown",
   "metadata": {},
   "source": [
    "### Random Forest"
   ]
  },
  {
   "cell_type": "code",
   "execution_count": 13,
   "metadata": {},
   "outputs": [
    {
     "name": "stdout",
     "output_type": "stream",
     "text": [
      "Fitting 2 folds for each of 28 candidates, totalling 56 fits\n"
     ]
    },
    {
     "name": "stderr",
     "output_type": "stream",
     "text": [
      "[Parallel(n_jobs=-1)]: Using backend LokyBackend with 8 concurrent workers.\n",
      "[Parallel(n_jobs=-1)]: Done  34 tasks      | elapsed:   17.9s\n",
      "[Parallel(n_jobs=-1)]: Done  56 out of  56 | elapsed:   26.6s finished\n"
     ]
    },
    {
     "data": {
      "text/plain": [
       "(RandomForestClassifier(bootstrap=True, ccp_alpha=0.0, class_weight=None,\n",
       "                        criterion='gini', max_depth=20, max_features='auto',\n",
       "                        max_leaf_nodes=None, max_samples=None,\n",
       "                        min_impurity_decrease=0.0, min_impurity_split=None,\n",
       "                        min_samples_leaf=1, min_samples_split=2,\n",
       "                        min_weight_fraction_leaf=0.0, n_estimators=1000,\n",
       "                        n_jobs=None, oob_score=False, random_state=42, verbose=0,\n",
       "                        warm_start=False),\n",
       " 0.885147307517795)"
      ]
     },
     "execution_count": 13,
     "metadata": {},
     "output_type": "execute_result"
    }
   ],
   "source": [
    "# Random Forest Classifier\n",
    "rfc = RandomForestClassifier(n_estimators = 1000, random_state=42)\n",
    "rfc_gcv_parameters = {'min_samples_leaf': [1, 3, 5, 8], \n",
    "                      'max_depth': [3, 4, 5, 8, 12, 16, 20], \n",
    "                     }\n",
    "rfe_gcv = GridSearchCV(rfc, rfc_gcv_parameters, n_jobs=-1, cv=StratifiedKFold(2), verbose=1, scoring='roc_auc')\n",
    "rfe_gcv.fit(X_train, y_train)\n",
    "rfe_gcv.best_estimator_, rfe_gcv.best_score_"
   ]
  },
  {
   "cell_type": "code",
   "execution_count": 14,
   "metadata": {},
   "outputs": [
    {
     "name": "stdout",
     "output_type": "stream",
     "text": [
      "              precision    recall  f1-score   support\n",
      "\n",
      "           0       0.86      0.90      0.88       355\n",
      "           1       0.77      0.69      0.73       167\n",
      "\n",
      "    accuracy                           0.84       522\n",
      "   macro avg       0.82      0.80      0.80       522\n",
      "weighted avg       0.83      0.84      0.83       522\n",
      "\n"
     ]
    }
   ],
   "source": [
    "print(classification_report(y_test, rfe_gcv.predict(X_test)))"
   ]
  },
  {
   "cell_type": "markdown",
   "metadata": {},
   "source": [
    "### XGBoost"
   ]
  },
  {
   "cell_type": "code",
   "execution_count": 11,
   "metadata": {},
   "outputs": [
    {
     "ename": "NameError",
     "evalue": "name 'X_train' is not defined",
     "output_type": "error",
     "traceback": [
      "\u001b[0;31m---------------------------------------------------------------------------\u001b[0m",
      "\u001b[0;31mNameError\u001b[0m                                 Traceback (most recent call last)",
      "\u001b[0;32m/tmp/ipykernel_24843/1901990668.py\u001b[0m in \u001b[0;36m<module>\u001b[0;34m\u001b[0m\n\u001b[1;32m      6\u001b[0m                      }\n\u001b[1;32m      7\u001b[0m \u001b[0mxgb_gcv\u001b[0m \u001b[0;34m=\u001b[0m \u001b[0mGridSearchCV\u001b[0m\u001b[0;34m(\u001b[0m\u001b[0mxgb\u001b[0m\u001b[0;34m,\u001b[0m \u001b[0mxgb_gcv_parameters\u001b[0m\u001b[0;34m,\u001b[0m \u001b[0mn_jobs\u001b[0m\u001b[0;34m=\u001b[0m\u001b[0;34m-\u001b[0m\u001b[0;36m1\u001b[0m\u001b[0;34m,\u001b[0m \u001b[0mcv\u001b[0m\u001b[0;34m=\u001b[0m\u001b[0mStratifiedKFold\u001b[0m\u001b[0;34m(\u001b[0m\u001b[0;36m2\u001b[0m\u001b[0;34m)\u001b[0m\u001b[0;34m,\u001b[0m \u001b[0mverbose\u001b[0m\u001b[0;34m=\u001b[0m\u001b[0;36m1\u001b[0m\u001b[0;34m,\u001b[0m \u001b[0mscoring\u001b[0m\u001b[0;34m=\u001b[0m\u001b[0;34m'roc_auc'\u001b[0m\u001b[0;34m)\u001b[0m\u001b[0;34m\u001b[0m\u001b[0;34m\u001b[0m\u001b[0m\n\u001b[0;32m----> 8\u001b[0;31m \u001b[0mxgb_gcv\u001b[0m\u001b[0;34m.\u001b[0m\u001b[0mfit\u001b[0m\u001b[0;34m(\u001b[0m\u001b[0mX_train\u001b[0m\u001b[0;34m,\u001b[0m \u001b[0my_train\u001b[0m\u001b[0;34m)\u001b[0m  \u001b[0;31m# use numpy values as xgboost requres fixed ordering\u001b[0m\u001b[0;34m\u001b[0m\u001b[0;34m\u001b[0m\u001b[0m\n\u001b[0m\u001b[1;32m      9\u001b[0m \u001b[0mxgb_gcv\u001b[0m\u001b[0;34m.\u001b[0m\u001b[0mbest_estimator_\u001b[0m\u001b[0;34m,\u001b[0m \u001b[0mxgb_gcv\u001b[0m\u001b[0;34m.\u001b[0m\u001b[0mbest_score_\u001b[0m\u001b[0;34m\u001b[0m\u001b[0;34m\u001b[0m\u001b[0m\n",
      "\u001b[0;31mNameError\u001b[0m: name 'X_train' is not defined"
     ]
    }
   ],
   "source": [
    "# XGBoost Classifier\n",
    "xgb = XGBClassifier(n_estimators = 1000, random_state=42, use_label_encoder=False)\n",
    "xgb_gcv_parameters = {'eta': [0.2, 0.3, 0.4, 0.5],\n",
    "                      'min_child_weight': [0.3, 0.5, 0.8, 1],\n",
    "                      'max_depth': [3, 4, 5, 8, 12, 16, 20], \n",
    "                     }\n",
    "xgb_gcv = GridSearchCV(xgb, xgb_gcv_parameters, n_jobs=-1, cv=StratifiedKFold(2), verbose=1, scoring='roc_auc')\n",
    "xgb_gcv.fit(X_train, y_train)  # use numpy values as xgboost requres fixed ordering\n",
    "xgb_gcv.best_estimator_, xgb_gcv.best_score_"
   ]
  },
  {
   "cell_type": "code",
   "execution_count": 40,
   "metadata": {},
   "outputs": [
    {
     "name": "stdout",
     "output_type": "stream",
     "text": [
      "              precision    recall  f1-score   support\n",
      "\n",
      "           0       0.85      0.86      0.86       355\n",
      "           1       0.70      0.68      0.69       167\n",
      "\n",
      "    accuracy                           0.80       522\n",
      "   macro avg       0.78      0.77      0.77       522\n",
      "weighted avg       0.80      0.80      0.80       522\n",
      "\n"
     ]
    }
   ],
   "source": [
    "print(classification_report(y_test, xgb_gcv.predict(X_test)))"
   ]
  },
  {
   "cell_type": "markdown",
   "metadata": {},
   "source": [
    "### KNN"
   ]
  },
  {
   "cell_type": "code",
   "execution_count": 41,
   "metadata": {},
   "outputs": [
    {
     "name": "stdout",
     "output_type": "stream",
     "text": [
      "Fitting 2 folds for each of 9 candidates, totalling 18 fits\n"
     ]
    },
    {
     "name": "stderr",
     "output_type": "stream",
     "text": [
      "[Parallel(n_jobs=-1)]: Using backend LokyBackend with 8 concurrent workers.\n",
      "[Parallel(n_jobs=-1)]: Done  18 out of  18 | elapsed:    0.8s finished\n"
     ]
    },
    {
     "data": {
      "text/plain": [
       "({'n_neighbors': 9}, 0.5363571559180647)"
      ]
     },
     "execution_count": 41,
     "metadata": {},
     "output_type": "execute_result"
    }
   ],
   "source": [
    "# KNN Classifier\n",
    "knn = KNeighborsClassifier(n_jobs=-1)\n",
    "knn_gcv_params = {'n_neighbors': range(1, 10)}\n",
    "\n",
    "knn_gcv = GridSearchCV(knn, knn_gcv_params, n_jobs=-1, cv=StratifiedKFold(2), verbose=1, scoring='roc_auc')\n",
    "knn_gcv.fit(X_train, y_train)\n",
    "knn_gcv.best_params_, knn_gcv.best_score_"
   ]
  },
  {
   "cell_type": "code",
   "execution_count": 42,
   "metadata": {},
   "outputs": [
    {
     "name": "stdout",
     "output_type": "stream",
     "text": [
      "              precision    recall  f1-score   support\n",
      "\n",
      "           0       0.68      0.88      0.77       355\n",
      "           1       0.34      0.13      0.18       167\n",
      "\n",
      "    accuracy                           0.64       522\n",
      "   macro avg       0.51      0.51      0.48       522\n",
      "weighted avg       0.57      0.64      0.58       522\n",
      "\n"
     ]
    }
   ],
   "source": [
    "print(classification_report(y_test, knn_gcv.predict(X_test)))"
   ]
  },
  {
   "cell_type": "markdown",
   "metadata": {},
   "source": [
    "# Recommendations\n",
    "\n",
    "- Looks like the random forest and xgboost classifiers perform the best, let's see what they recommend should be in \"Best Of\"\n",
    "- Use recommendation_tracks_df as the evaluation dataset"
   ]
  },
  {
   "cell_type": "code",
   "execution_count": 43,
   "metadata": {},
   "outputs": [
    {
     "data": {
      "text/html": [
       "<div>\n",
       "<style scoped>\n",
       "    .dataframe tbody tr th:only-of-type {\n",
       "        vertical-align: middle;\n",
       "    }\n",
       "\n",
       "    .dataframe tbody tr th {\n",
       "        vertical-align: top;\n",
       "    }\n",
       "\n",
       "    .dataframe thead th {\n",
       "        text-align: right;\n",
       "    }\n",
       "</style>\n",
       "<table border=\"1\" class=\"dataframe\">\n",
       "  <thead>\n",
       "    <tr style=\"text-align: right;\">\n",
       "      <th></th>\n",
       "      <th>index</th>\n",
       "      <th>id</th>\n",
       "      <th>name</th>\n",
       "      <th>popularity</th>\n",
       "      <th>type</th>\n",
       "      <th>is_local</th>\n",
       "      <th>explicit</th>\n",
       "      <th>duration_ms</th>\n",
       "      <th>disc_number</th>\n",
       "      <th>track_number</th>\n",
       "      <th>...</th>\n",
       "      <th>instrumentalness</th>\n",
       "      <th>liveness</th>\n",
       "      <th>valence</th>\n",
       "      <th>tempo</th>\n",
       "      <th>uri</th>\n",
       "      <th>track_href</th>\n",
       "      <th>analysis_url</th>\n",
       "      <th>time_signature</th>\n",
       "      <th>ratings</th>\n",
       "      <th>prob_ratings</th>\n",
       "    </tr>\n",
       "  </thead>\n",
       "  <tbody>\n",
       "    <tr>\n",
       "      <th>1</th>\n",
       "      <td>1</td>\n",
       "      <td>06wTEKL2rSrSaOjFtgG8fj</td>\n",
       "      <td>Slow Cheetah</td>\n",
       "      <td>58</td>\n",
       "      <td>audio_features</td>\n",
       "      <td>False</td>\n",
       "      <td>False</td>\n",
       "      <td>319933.0</td>\n",
       "      <td>1</td>\n",
       "      <td>7</td>\n",
       "      <td>...</td>\n",
       "      <td>0.000141</td>\n",
       "      <td>0.0715</td>\n",
       "      <td>0.244</td>\n",
       "      <td>178.102</td>\n",
       "      <td>spotify:track:06wTEKL2rSrSaOjFtgG8fj</td>\n",
       "      <td>https://api.spotify.com/v1/tracks/06wTEKL2rSrS...</td>\n",
       "      <td>https://api.spotify.com/v1/audio-analysis/06wT...</td>\n",
       "      <td>4.0</td>\n",
       "      <td>1</td>\n",
       "      <td>0.589288</td>\n",
       "    </tr>\n",
       "    <tr>\n",
       "      <th>2</th>\n",
       "      <td>2</td>\n",
       "      <td>4Zc7TCHzuNwL0AFBlyLdyr</td>\n",
       "      <td>Run to the Hills - 2015 Remaster</td>\n",
       "      <td>71</td>\n",
       "      <td>audio_features</td>\n",
       "      <td>False</td>\n",
       "      <td>False</td>\n",
       "      <td>233507.0</td>\n",
       "      <td>1</td>\n",
       "      <td>6</td>\n",
       "      <td>...</td>\n",
       "      <td>0.004010</td>\n",
       "      <td>0.1620</td>\n",
       "      <td>0.458</td>\n",
       "      <td>173.671</td>\n",
       "      <td>spotify:track:4Zc7TCHzuNwL0AFBlyLdyr</td>\n",
       "      <td>https://api.spotify.com/v1/tracks/4Zc7TCHzuNwL...</td>\n",
       "      <td>https://api.spotify.com/v1/audio-analysis/4Zc7...</td>\n",
       "      <td>4.0</td>\n",
       "      <td>1</td>\n",
       "      <td>0.571000</td>\n",
       "    </tr>\n",
       "    <tr>\n",
       "      <th>3</th>\n",
       "      <td>3</td>\n",
       "      <td>1vcxF91pWs9uNwDROuiCPB</td>\n",
       "      <td>Savior</td>\n",
       "      <td>75</td>\n",
       "      <td>audio_features</td>\n",
       "      <td>False</td>\n",
       "      <td>False</td>\n",
       "      <td>242280.0</td>\n",
       "      <td>1</td>\n",
       "      <td>11</td>\n",
       "      <td>...</td>\n",
       "      <td>0.000142</td>\n",
       "      <td>0.4250</td>\n",
       "      <td>0.478</td>\n",
       "      <td>112.490</td>\n",
       "      <td>spotify:track:1vcxF91pWs9uNwDROuiCPB</td>\n",
       "      <td>https://api.spotify.com/v1/tracks/1vcxF91pWs9u...</td>\n",
       "      <td>https://api.spotify.com/v1/audio-analysis/1vcx...</td>\n",
       "      <td>4.0</td>\n",
       "      <td>1</td>\n",
       "      <td>0.757779</td>\n",
       "    </tr>\n",
       "    <tr>\n",
       "      <th>4</th>\n",
       "      <td>4</td>\n",
       "      <td>2oSpQ7QtIKTNFfA08Cy0ku</td>\n",
       "      <td>It's The End Of The World As We Know It (And I...</td>\n",
       "      <td>70</td>\n",
       "      <td>audio_features</td>\n",
       "      <td>False</td>\n",
       "      <td>False</td>\n",
       "      <td>246933.0</td>\n",
       "      <td>1</td>\n",
       "      <td>6</td>\n",
       "      <td>...</td>\n",
       "      <td>0.000000</td>\n",
       "      <td>0.0251</td>\n",
       "      <td>0.797</td>\n",
       "      <td>205.528</td>\n",
       "      <td>spotify:track:2oSpQ7QtIKTNFfA08Cy0ku</td>\n",
       "      <td>https://api.spotify.com/v1/tracks/2oSpQ7QtIKTN...</td>\n",
       "      <td>https://api.spotify.com/v1/audio-analysis/2oSp...</td>\n",
       "      <td>4.0</td>\n",
       "      <td>1</td>\n",
       "      <td>0.582699</td>\n",
       "    </tr>\n",
       "    <tr>\n",
       "      <th>5</th>\n",
       "      <td>5</td>\n",
       "      <td>4iG2gAwKXsOcijVaVXzRPW</td>\n",
       "      <td>Time to Pretend</td>\n",
       "      <td>73</td>\n",
       "      <td>audio_features</td>\n",
       "      <td>False</td>\n",
       "      <td>True</td>\n",
       "      <td>261000.0</td>\n",
       "      <td>1</td>\n",
       "      <td>1</td>\n",
       "      <td>...</td>\n",
       "      <td>0.077700</td>\n",
       "      <td>0.3000</td>\n",
       "      <td>0.421</td>\n",
       "      <td>100.990</td>\n",
       "      <td>spotify:track:4iG2gAwKXsOcijVaVXzRPW</td>\n",
       "      <td>https://api.spotify.com/v1/tracks/4iG2gAwKXsOc...</td>\n",
       "      <td>https://api.spotify.com/v1/audio-analysis/4iG2...</td>\n",
       "      <td>3.0</td>\n",
       "      <td>1</td>\n",
       "      <td>0.653742</td>\n",
       "    </tr>\n",
       "  </tbody>\n",
       "</table>\n",
       "<p>5 rows × 38 columns</p>\n",
       "</div>"
      ],
      "text/plain": [
       "   index                      id  \\\n",
       "1      1  06wTEKL2rSrSaOjFtgG8fj   \n",
       "2      2  4Zc7TCHzuNwL0AFBlyLdyr   \n",
       "3      3  1vcxF91pWs9uNwDROuiCPB   \n",
       "4      4  2oSpQ7QtIKTNFfA08Cy0ku   \n",
       "5      5  4iG2gAwKXsOcijVaVXzRPW   \n",
       "\n",
       "                                                name  popularity  \\\n",
       "1                                       Slow Cheetah          58   \n",
       "2                   Run to the Hills - 2015 Remaster          71   \n",
       "3                                             Savior          75   \n",
       "4  It's The End Of The World As We Know It (And I...          70   \n",
       "5                                    Time to Pretend          73   \n",
       "\n",
       "             type  is_local  explicit  duration_ms  disc_number  track_number  \\\n",
       "1  audio_features     False     False     319933.0            1             7   \n",
       "2  audio_features     False     False     233507.0            1             6   \n",
       "3  audio_features     False     False     242280.0            1            11   \n",
       "4  audio_features     False     False     246933.0            1             6   \n",
       "5  audio_features     False      True     261000.0            1             1   \n",
       "\n",
       "   ... instrumentalness liveness valence    tempo  \\\n",
       "1  ...         0.000141   0.0715   0.244  178.102   \n",
       "2  ...         0.004010   0.1620   0.458  173.671   \n",
       "3  ...         0.000142   0.4250   0.478  112.490   \n",
       "4  ...         0.000000   0.0251   0.797  205.528   \n",
       "5  ...         0.077700   0.3000   0.421  100.990   \n",
       "\n",
       "                                    uri  \\\n",
       "1  spotify:track:06wTEKL2rSrSaOjFtgG8fj   \n",
       "2  spotify:track:4Zc7TCHzuNwL0AFBlyLdyr   \n",
       "3  spotify:track:1vcxF91pWs9uNwDROuiCPB   \n",
       "4  spotify:track:2oSpQ7QtIKTNFfA08Cy0ku   \n",
       "5  spotify:track:4iG2gAwKXsOcijVaVXzRPW   \n",
       "\n",
       "                                          track_href  \\\n",
       "1  https://api.spotify.com/v1/tracks/06wTEKL2rSrS...   \n",
       "2  https://api.spotify.com/v1/tracks/4Zc7TCHzuNwL...   \n",
       "3  https://api.spotify.com/v1/tracks/1vcxF91pWs9u...   \n",
       "4  https://api.spotify.com/v1/tracks/2oSpQ7QtIKTN...   \n",
       "5  https://api.spotify.com/v1/tracks/4iG2gAwKXsOc...   \n",
       "\n",
       "                                        analysis_url  time_signature ratings  \\\n",
       "1  https://api.spotify.com/v1/audio-analysis/06wT...             4.0       1   \n",
       "2  https://api.spotify.com/v1/audio-analysis/4Zc7...             4.0       1   \n",
       "3  https://api.spotify.com/v1/audio-analysis/1vcx...             4.0       1   \n",
       "4  https://api.spotify.com/v1/audio-analysis/2oSp...             4.0       1   \n",
       "5  https://api.spotify.com/v1/audio-analysis/4iG2...             3.0       1   \n",
       "\n",
       "  prob_ratings  \n",
       "1     0.589288  \n",
       "2     0.571000  \n",
       "3     0.757779  \n",
       "4     0.582699  \n",
       "5     0.653742  \n",
       "\n",
       "[5 rows x 38 columns]"
      ]
     },
     "execution_count": 43,
     "metadata": {},
     "output_type": "execute_result"
    }
   ],
   "source": [
    "# Predict\n",
    "recommendation_tracks_df['ratings'] = rfe_gcv.predict(X_recommend)\n",
    "recommendation_tracks_df['prob_ratings'] = rfe_gcv.predict_proba(X_recommend)[:,1]  # slice for probability of 1\n",
    "recommendation_tracks_df[recommendation_tracks_df['ratings'] == 1].head()"
   ]
  },
  {
   "cell_type": "code",
   "execution_count": 44,
   "metadata": {},
   "outputs": [
    {
     "data": {
      "text/plain": [
       "166"
      ]
     },
     "execution_count": 44,
     "metadata": {},
     "output_type": "execute_result"
    }
   ],
   "source": [
    "# 166 tracks where prob_ratings >= 0.8 which is a good number\n",
    "tracks_to_add = recommendation_tracks_df[recommendation_tracks_df['prob_ratings'] >= 0.8]['id']\n",
    "len(tracks_to_add)"
   ]
  },
  {
   "cell_type": "code",
   "execution_count": 45,
   "metadata": {},
   "outputs": [],
   "source": [
    "# Spotify API\n",
    "with open(\"spotify/spotify_details.yml\", 'r') as stream:\n",
    "    spotify_details = yaml.safe_load(stream)\n",
    "\n",
    "scope = \"playlist-modify-private\"\n",
    "\n",
    "sp = spotipy.Spotify(auth_manager=SpotifyOAuth(\n",
    "    client_id=spotify_details['client_id'],\n",
    "    client_secret=spotify_details['client_secret'],\n",
    "    redirect_uri=spotify_details['redirect_uri'],\n",
    "    scope=scope,\n",
    "))\n",
    "\n",
    "# Create a new playlist for tracks to add - you may also add these tracks to your source playlist and proceed\n",
    "new_playlist = sp.user_playlist_create(user=spotify_details['user'], \n",
    "                                       name=\"spotify-recommender-playlists\",\n",
    "                                       public=False, \n",
    "                                       collaborative=False, \n",
    "                                       description=\"Created by https://github.com/anthonyli358/spotify-recommender-systems\",\n",
    "                                      )\n",
    "\n",
    "# Add tracks to the new playlist\n",
    "for id in tracks_to_add:\n",
    "    sp.user_playlist_add_tracks(user=spotify_details['user'], \n",
    "                                playlist_id=new_playlist['id'], \n",
    "                                tracks=[id],\n",
    "                               );"
   ]
  },
  {
   "cell_type": "markdown",
   "metadata": {},
   "source": [
    "This worked very well, both the playlist generated by random forest and the playlist generated by xgboost have a good mix of genres, langauges, and songs. I have some new song recommendations to listen to!"
   ]
  }
 ],
 "metadata": {
  "kernelspec": {
   "display_name": "Python 3",
   "language": "python",
   "name": "python3"
  },
  "language_info": {
   "codemirror_mode": {
    "name": "ipython",
    "version": 3
   },
   "file_extension": ".py",
   "mimetype": "text/x-python",
   "name": "python",
   "nbconvert_exporter": "python",
   "pygments_lexer": "ipython3",
   "version": "3.8.10"
  }
 },
 "nbformat": 4,
 "nbformat_minor": 4
}
